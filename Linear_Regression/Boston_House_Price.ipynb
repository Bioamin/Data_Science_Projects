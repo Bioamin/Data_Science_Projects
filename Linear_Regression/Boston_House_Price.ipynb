{
 "cells": [
  {
   "cell_type": "code",
   "execution_count": 164,
   "metadata": {},
   "outputs": [],
   "source": [
    "##########Boston Home Price Linear Regression ###################\n",
    "# Amin Boroomand, December 2022\n",
    "#Dataset: Diabete built-in Sickit Learn Dataset\n",
    "#https://www4.stat.ncsu.edu/~boos/var.select/diabetes.html\n",
    "#objective: predicting music genre based on age and sex\n",
    "#Algorithm: Linear Regression\n",
    "###########################################################"
   ]
  },
  {
   "cell_type": "code",
   "execution_count": 165,
   "metadata": {},
   "outputs": [],
   "source": [
    "#To DO in future:\n",
    "#1_Check linear regression assumptions\n",
    "#2-compute the ridge or lasso regression and compare the results\n",
    "#update Readme"
   ]
  },
  {
   "cell_type": "code",
   "execution_count": 166,
   "metadata": {},
   "outputs": [],
   "source": [
    "#Imports\n",
    "from sklearn import linear_model\n",
    "from sklearn.model_selection import train_test_split, RepeatedKFold, cross_val_score\n",
    "from matplotlib import pyplot as plt\n",
    "from sklearn.metrics import r2_score, mean_squared_error, mean_absolute_error\n",
    "from numpy import mean, std\n",
    "from scipy.stats import sem\n",
    "import seaborn as sn\n",
    "import pandas as pd\n",
    "import numpy as np"
   ]
  },
  {
   "cell_type": "code",
   "execution_count": 120,
   "metadata": {},
   "outputs": [
    {
     "name": "stdout",
     "output_type": "stream",
     "text": [
      "--2022-12-28 21:28:05--  https://github.com/dataprofessor/data/raw/master/BostonHousing.csv\n",
      "Resolving github.com (github.com)... 192.30.255.113\n",
      "Connecting to github.com (github.com)|192.30.255.113|:443... connected.\n",
      "HTTP request sent, awaiting response... 302 Found\n",
      "Location: https://raw.githubusercontent.com/dataprofessor/data/master/BostonHousing.csv [following]\n",
      "--2022-12-28 21:28:05--  https://raw.githubusercontent.com/dataprofessor/data/master/BostonHousing.csv\n",
      "Resolving raw.githubusercontent.com (raw.githubusercontent.com)... 2606:50c0:8000::154, 2606:50c0:8001::154, 2606:50c0:8002::154, ...\n",
      "Connecting to raw.githubusercontent.com (raw.githubusercontent.com)|2606:50c0:8000::154|:443... connected.\n",
      "HTTP request sent, awaiting response... 200 OK\n",
      "Length: 36242 (35K) [text/plain]\n",
      "Saving to: ‘BostonHousing.csv.2’\n",
      "\n",
      "BostonHousing.csv.2 100%[===================>]  35.39K  --.-KB/s    in 0.005s  \n",
      "\n",
      "2022-12-28 21:28:05 (6.75 MB/s) - ‘BostonHousing.csv.2’ saved [36242/36242]\n",
      "\n"
     ]
    }
   ],
   "source": [
    "#Downloading the file\n",
    "! wget https://github.com/dataprofessor/data/raw/master/BostonHousing.csv"
   ]
  },
  {
   "cell_type": "code",
   "execution_count": 167,
   "metadata": {
    "scrolled": false
   },
   "outputs": [
    {
     "data": {
      "text/html": [
       "<div>\n",
       "<style scoped>\n",
       "    .dataframe tbody tr th:only-of-type {\n",
       "        vertical-align: middle;\n",
       "    }\n",
       "\n",
       "    .dataframe tbody tr th {\n",
       "        vertical-align: top;\n",
       "    }\n",
       "\n",
       "    .dataframe thead th {\n",
       "        text-align: right;\n",
       "    }\n",
       "</style>\n",
       "<table border=\"1\" class=\"dataframe\">\n",
       "  <thead>\n",
       "    <tr style=\"text-align: right;\">\n",
       "      <th></th>\n",
       "      <th>crim</th>\n",
       "      <th>zn</th>\n",
       "      <th>indus</th>\n",
       "      <th>chas</th>\n",
       "      <th>nox</th>\n",
       "      <th>rm</th>\n",
       "      <th>age</th>\n",
       "      <th>dis</th>\n",
       "      <th>rad</th>\n",
       "      <th>tax</th>\n",
       "      <th>ptratio</th>\n",
       "      <th>b</th>\n",
       "      <th>lstat</th>\n",
       "      <th>medv</th>\n",
       "    </tr>\n",
       "  </thead>\n",
       "  <tbody>\n",
       "    <tr>\n",
       "      <th>0</th>\n",
       "      <td>0.00632</td>\n",
       "      <td>18.0</td>\n",
       "      <td>2.31</td>\n",
       "      <td>0</td>\n",
       "      <td>0.538</td>\n",
       "      <td>6.575</td>\n",
       "      <td>65.2</td>\n",
       "      <td>4.0900</td>\n",
       "      <td>1</td>\n",
       "      <td>296</td>\n",
       "      <td>15.3</td>\n",
       "      <td>396.90</td>\n",
       "      <td>4.98</td>\n",
       "      <td>24.0</td>\n",
       "    </tr>\n",
       "    <tr>\n",
       "      <th>1</th>\n",
       "      <td>0.02731</td>\n",
       "      <td>0.0</td>\n",
       "      <td>7.07</td>\n",
       "      <td>0</td>\n",
       "      <td>0.469</td>\n",
       "      <td>6.421</td>\n",
       "      <td>78.9</td>\n",
       "      <td>4.9671</td>\n",
       "      <td>2</td>\n",
       "      <td>242</td>\n",
       "      <td>17.8</td>\n",
       "      <td>396.90</td>\n",
       "      <td>9.14</td>\n",
       "      <td>21.6</td>\n",
       "    </tr>\n",
       "    <tr>\n",
       "      <th>2</th>\n",
       "      <td>0.02729</td>\n",
       "      <td>0.0</td>\n",
       "      <td>7.07</td>\n",
       "      <td>0</td>\n",
       "      <td>0.469</td>\n",
       "      <td>7.185</td>\n",
       "      <td>61.1</td>\n",
       "      <td>4.9671</td>\n",
       "      <td>2</td>\n",
       "      <td>242</td>\n",
       "      <td>17.8</td>\n",
       "      <td>392.83</td>\n",
       "      <td>4.03</td>\n",
       "      <td>34.7</td>\n",
       "    </tr>\n",
       "    <tr>\n",
       "      <th>3</th>\n",
       "      <td>0.03237</td>\n",
       "      <td>0.0</td>\n",
       "      <td>2.18</td>\n",
       "      <td>0</td>\n",
       "      <td>0.458</td>\n",
       "      <td>6.998</td>\n",
       "      <td>45.8</td>\n",
       "      <td>6.0622</td>\n",
       "      <td>3</td>\n",
       "      <td>222</td>\n",
       "      <td>18.7</td>\n",
       "      <td>394.63</td>\n",
       "      <td>2.94</td>\n",
       "      <td>33.4</td>\n",
       "    </tr>\n",
       "    <tr>\n",
       "      <th>4</th>\n",
       "      <td>0.06905</td>\n",
       "      <td>0.0</td>\n",
       "      <td>2.18</td>\n",
       "      <td>0</td>\n",
       "      <td>0.458</td>\n",
       "      <td>7.147</td>\n",
       "      <td>54.2</td>\n",
       "      <td>6.0622</td>\n",
       "      <td>3</td>\n",
       "      <td>222</td>\n",
       "      <td>18.7</td>\n",
       "      <td>396.90</td>\n",
       "      <td>5.33</td>\n",
       "      <td>36.2</td>\n",
       "    </tr>\n",
       "  </tbody>\n",
       "</table>\n",
       "</div>"
      ],
      "text/plain": [
       "      crim    zn  indus  chas    nox     rm   age     dis  rad  tax  ptratio  \\\n",
       "0  0.00632  18.0   2.31     0  0.538  6.575  65.2  4.0900    1  296     15.3   \n",
       "1  0.02731   0.0   7.07     0  0.469  6.421  78.9  4.9671    2  242     17.8   \n",
       "2  0.02729   0.0   7.07     0  0.469  7.185  61.1  4.9671    2  242     17.8   \n",
       "3  0.03237   0.0   2.18     0  0.458  6.998  45.8  6.0622    3  222     18.7   \n",
       "4  0.06905   0.0   2.18     0  0.458  7.147  54.2  6.0622    3  222     18.7   \n",
       "\n",
       "        b  lstat  medv  \n",
       "0  396.90   4.98  24.0  \n",
       "1  396.90   9.14  21.6  \n",
       "2  392.83   4.03  34.7  \n",
       "3  394.63   2.94  33.4  \n",
       "4  396.90   5.33  36.2  "
      ]
     },
     "execution_count": 167,
     "metadata": {},
     "output_type": "execute_result"
    }
   ],
   "source": [
    "#Reading the CSV file\n",
    "Boston_H=pd.read_csv(\"BostonHousing.csv\")\n",
    "Boston_H.head()"
   ]
  },
  {
   "cell_type": "code",
   "execution_count": 168,
   "metadata": {},
   "outputs": [
    {
     "name": "stdout",
     "output_type": "stream",
     "text": [
      "Empty DataFrame\n",
      "Columns: [crim, zn, indus, chas, nox, rm, age, dis, rad, tax, ptratio, b, lstat, medv]\n",
      "Index: []\n",
      "Empty DataFrame\n",
      "Columns: [crim, zn, indus, chas, nox, rm, age, dis, rad, tax, ptratio, b, lstat, medv]\n",
      "Index: []\n",
      "             crim          zn       indus        chas         nox          rm  \\\n",
      "count  506.000000  506.000000  506.000000  506.000000  506.000000  506.000000   \n",
      "mean     3.613524   11.363636   11.136779    0.069170    0.554695    6.284634   \n",
      "std      8.601545   23.322453    6.860353    0.253994    0.115878    0.702617   \n",
      "min      0.006320    0.000000    0.460000    0.000000    0.385000    3.561000   \n",
      "25%      0.082045    0.000000    5.190000    0.000000    0.449000    5.885500   \n",
      "50%      0.256510    0.000000    9.690000    0.000000    0.538000    6.208500   \n",
      "75%      3.677082   12.500000   18.100000    0.000000    0.624000    6.623500   \n",
      "max     88.976200  100.000000   27.740000    1.000000    0.871000    8.780000   \n",
      "\n",
      "              age         dis         rad         tax     ptratio           b  \\\n",
      "count  506.000000  506.000000  506.000000  506.000000  506.000000  506.000000   \n",
      "mean    68.574901    3.795043    9.549407  408.237154   18.455534  356.674032   \n",
      "std     28.148861    2.105710    8.707259  168.537116    2.164946   91.294864   \n",
      "min      2.900000    1.129600    1.000000  187.000000   12.600000    0.320000   \n",
      "25%     45.025000    2.100175    4.000000  279.000000   17.400000  375.377500   \n",
      "50%     77.500000    3.207450    5.000000  330.000000   19.050000  391.440000   \n",
      "75%     94.075000    5.188425   24.000000  666.000000   20.200000  396.225000   \n",
      "max    100.000000   12.126500   24.000000  711.000000   22.000000  396.900000   \n",
      "\n",
      "            lstat        medv  \n",
      "count  506.000000  506.000000  \n",
      "mean    12.653063   22.532806  \n",
      "std      7.141062    9.197104  \n",
      "min      1.730000    5.000000  \n",
      "25%      6.950000   17.025000  \n",
      "50%     11.360000   21.200000  \n",
      "75%     16.955000   25.000000  \n",
      "max     37.970000   50.000000  \n",
      "0       0.00632\n",
      "284     0.00906\n",
      "285     0.01096\n",
      "341     0.01301\n",
      "55      0.01311\n",
      "         ...   \n",
      "414    45.74610\n",
      "410    51.13580\n",
      "405    67.92080\n",
      "418    73.53410\n",
      "380    88.97620\n",
      "Name: crim, Length: 506, dtype: float64\n"
     ]
    }
   ],
   "source": [
    "#Data Cleaning\n",
    "#checking for any missing data\n",
    "print(Boston_H[Boston_H.isna().any(axis=1)])\n",
    "\n",
    "# Check for duplicated rows\n",
    "print(Boston_H[Boston_H.duplicated(subset=None, keep='first')])\n",
    "Boston_H=Boston_H.drop_duplicates()\n",
    "\n",
    "#Check for outliers\n",
    "print(Boston_H.describe())\n",
    "print(Boston_H[\"crim\"].sort_values())"
   ]
  },
  {
   "cell_type": "code",
   "execution_count": 169,
   "metadata": {
    "scrolled": true
   },
   "outputs": [],
   "source": [
    "#Setting the X and Y\n",
    "#The last column, medV, is the Y variable. Other columns are X variables. \n",
    "Y=Boston_H.medv\n",
    "X=Boston_H.drop([\"medv\"], axis=1)"
   ]
  },
  {
   "cell_type": "code",
   "execution_count": 170,
   "metadata": {},
   "outputs": [],
   "source": [
    "#setting the training and testing portions\n",
    "X_train, X_test, Y_train, Y_test = train_test_split(X,Y,test_size=0.2)"
   ]
  },
  {
   "cell_type": "code",
   "execution_count": 171,
   "metadata": {},
   "outputs": [],
   "source": [
    "#selecting the model\n",
    "model=linear_model.LinearRegression()"
   ]
  },
  {
   "cell_type": "code",
   "execution_count": 172,
   "metadata": {},
   "outputs": [],
   "source": [
    "#Training the model\n",
    "model.fit(X_train,Y_train)\n",
    "#using the model for prediction, evaluating the model using the blind set\n",
    "Y_predict=model.predict(X_test)"
   ]
  },
  {
   "cell_type": "code",
   "execution_count": 173,
   "metadata": {},
   "outputs": [],
   "source": [
    "#Computing Adjusted r2\n",
    "n=len(X_train)\n",
    "k=len(X.columns)\n",
    "Adjusted_r2= 1-((1-r2_score(Y_predict, Y_test))*((n-1)/(n-k-1)))"
   ]
  },
  {
   "cell_type": "code",
   "execution_count": 174,
   "metadata": {
    "scrolled": true
   },
   "outputs": [
    {
     "name": "stdout",
     "output_type": "stream",
     "text": [
      "Model Coefficients [-1.01792521e-01  5.36879224e-02  1.32200544e-03  3.01771768e+00\n",
      " -1.93419266e+01  3.10505147e+00  1.06335608e-02 -1.67144041e+00\n",
      "  2.97656290e-01 -1.09019218e-02 -9.68963517e-01  9.24161678e-03\n",
      " -5.84753900e-01]\n",
      "Model intercept 42.58\n",
      "coefficient of determination,r2 0.64\n",
      "Mean Squared Error 19.65\n",
      "Mean absolute Error 3.31\n",
      "r2 0.64\n",
      "Adjusted_r2 0.62\n"
     ]
    }
   ],
   "source": [
    "#model metrics\n",
    "print(\"Model Coefficients\",model.coef_)\n",
    "print(\"Model intercept %.2f\" % model.intercept_)\n",
    "print(\"coefficient of determination,r2 %.2f\" % r2_score(Y_predict, Y_test))\n",
    "print(\"Mean Squared Error %.2f\" % mean_squared_error(Y_predict, Y_test))\n",
    "print(\"Mean absolute Error %.2f\" % mean_absolute_error(Y_predict, Y_test))\n",
    "print(\"r2 %.2f\"% r2_score(Y_predict, Y_test))\n",
    "print(\"Adjusted_r2 %.2f\"% Adjusted_r2)"
   ]
  },
  {
   "cell_type": "code",
   "execution_count": 175,
   "metadata": {},
   "outputs": [
    {
     "data": {
      "text/plain": [
       "'medv = 42.58+(-0.10*crim)+(0.05*zn)+(0.00*indus)+(3.02*chas)+(-19.34*nox)+(3.11*rm)+(0.01*age)+(-1.67*dis)+(0.30*rad)+(-0.01*tax)+(-0.97*ptratio)+(0.01*b)+(-0.58*lstat)'"
      ]
     },
     "execution_count": 175,
     "metadata": {},
     "output_type": "execute_result"
    }
   ],
   "source": [
    "#Regression equation\n",
    "equation=str(Y.name+\" = %.2f\"%model.intercept_+\"+\")\n",
    "coef=model.coef_\n",
    "for i in  range (len(X.columns)):\n",
    "    equation=equation+\"(%.2f\" % coef[i]+\"*\"+X.columns[i]+\")\"+\"+\"\n",
    "    #,\"%.2f\" % coef[i],\"*\", X.columns[i],\")\",\"+\")\n",
    "equation[:-1]"
   ]
  },
  {
   "cell_type": "code",
   "execution_count": 176,
   "metadata": {},
   "outputs": [
    {
     "name": "stderr",
     "output_type": "stream",
     "text": [
      "/opt/anaconda3/lib/python3.8/site-packages/seaborn/_decorators.py:36: FutureWarning: Pass the following variables as keyword args: x, y. From version 0.12, the only valid positional argument will be `data`, and passing other arguments without an explicit keyword will result in an error or misinterpretation.\n",
      "  warnings.warn(\n"
     ]
    },
    {
     "data": {
      "text/plain": [
       "Text(0, 0.5, 'Predicted')"
      ]
     },
     "execution_count": 176,
     "metadata": {},
     "output_type": "execute_result"
    },
    {
     "data": {
      "image/png": "[encoded data removed]",
      "text/plain": [
       "<Figure size 720x720 with 1 Axes>"
      ]
     },
     "metadata": {
      "needs_background": "light"
     },
     "output_type": "display_data"
    }
   ],
   "source": [
    "plt.rcParams[\"xtick.labelsize\"] = 25\n",
    "plt.rcParams[\"ytick.labelsize\"] = 25\n",
    "plt.figure(figsize=(10,10))\n",
    "sn.scatterplot(Y_test, Y_predict, s=100, alpha=0.6)\n",
    "plt.xlabel('Test',fontsize=26)\n",
    "plt.ylabel('Predicted',fontsize=26)\n"
   ]
  },
  {
   "cell_type": "markdown",
   "metadata": {},
   "source": [
    "Here, I would like to evaluate the model, using repeated cross-validation. For that, I need to find a good repeat number for my 10-fold cross-validation. Ideally, I would like to select a number of repeats that shows both minimizations of the standard error and stabilizing of the mean estimated performance compared to other numbers of repeats."
   ]
  },
  {
   "cell_type": "code",
   "execution_count": 177,
   "metadata": {},
   "outputs": [],
   "source": [
    "#Evaluating the model with different number of Cross-validation repeat\n",
    "def model_eval (X,Y,repeat,model):\n",
    "    cv=RepeatedKFold(n_splits=10,n_repeats=repeat,random_state=2022)\n",
    "    r2= cross_val_score(model,X,Y,scoring=\"r2\",cv=cv,n_jobs=-1)\n",
    "    MSE= cross_val_score(model,X,Y,scoring=\"neg_mean_squared_error\",cv=cv,n_jobs=-1)\n",
    "    #scores = cross_val_score(model, X, Y, scoring='accuracy', cv=cv, n_jobs=-1)\n",
    "    return r2, MSE\n",
    "    "
   ]
  },
  {
   "cell_type": "code",
   "execution_count": 178,
   "metadata": {},
   "outputs": [],
   "source": [
    "r2, MSE= model_eval (X,Y,5,model)"
   ]
  },
  {
   "cell_type": "code",
   "execution_count": 179,
   "metadata": {},
   "outputs": [
    {
     "data": {
      "text/plain": [
       "0.7035084359222598"
      ]
     },
     "execution_count": 179,
     "metadata": {},
     "output_type": "execute_result"
    }
   ],
   "source": [
    "r2.mean()"
   ]
  },
  {
   "cell_type": "code",
   "execution_count": 193,
   "metadata": {},
   "outputs": [
    {
     "name": "stdout",
     "output_type": "stream",
     "text": [
      "RN r2_Mean SE_r2 -MSE_Mean SE_MSE\n",
      "1) 0.697 0.0390 -24.035 3.0500\n",
      "2) 0.703 0.0223 -23.853 1.8502\n",
      "3) 0.707 0.0167 -23.736 1.4510\n",
      "4) 0.700 0.0158 -23.843 1.1968\n",
      "5) 0.704 0.0131 -23.877 1.0686\n",
      "6) 0.704 0.0116 -23.840 0.9774\n",
      "7) 0.703 0.0104 -23.852 0.8754\n",
      "8) 0.704 0.0097 -23.899 0.8904\n",
      "9) 0.705 0.0091 -23.855 0.8262\n",
      "10) 0.705 0.0084 -23.881 0.8204\n",
      "11) 0.706 0.0081 -23.856 0.7805\n",
      "12) 0.706 0.0077 -23.862 0.7378\n",
      "13) 0.707 0.0073 -23.859 0.7359\n",
      "14) 0.707 0.0070 -23.853 0.7156\n",
      "15) 0.707 0.0069 -23.868 0.6918\n"
     ]
    }
   ],
   "source": [
    "r2_list=[]\n",
    "MSE_list=[]\n",
    "repeat_range=range(1,16)\n",
    "print(\"RN r2_Mean SE_r2 -MSE_Mean SE_MSE\")\n",
    "for repeat_num in repeat_range:\n",
    "    r2, MSE= model_eval (X,Y,repeat_num,model)\n",
    "\n",
    "    print(\"%d) %.3f %.4f %.3f %.4f\" % (repeat_num, mean(r2), sem(r2),  mean(MSE), sem(MSE)))\n",
    "    r2_list.append(r2)\n",
    "    MSE_list.append(MSE)\n",
    "#r2_list = list(np.around(np.array(r2_list),2))\n"
   ]
  },
  {
   "cell_type": "code",
   "execution_count": 199,
   "metadata": {},
   "outputs": [
    {
     "data": {
      "image/png": "[encoded data removed]",
      "text/plain": [
       "<Figure size 720x504 with 1 Axes>"
      ]
     },
     "metadata": {
      "needs_background": "light"
     },
     "output_type": "display_data"
    }
   ],
   "source": [
    "plt.figure(figsize=(10,7))\n",
    "plot=plt.boxplot(r2_list, labels=[1,\"\",\"\",\"\",5,\"\",\"\",\"\",\"\",10,\"\",\"\",\"\",\"\",15],showmeans=True, patch_artist = True,\n",
    "                 boxprops={\"facecolor\":\"lightblue\", \"color\":\"blue\"},\n",
    "                meanprops={\"marker\":\"^\",\"markerfacecolor\":\"green\", \"markeredgecolor\":\"green\", \"markersize\":10})\n",
    "#colors = ['pink']\n",
    "plt.title(\"R2 in different numbers of 10-fold cross-validation repeat\", fontsize=20)\n",
    "plt.xlabel('Repeat number of the 10-fold cross validation', fontsize=18 )\n",
    "plt.ylabel('coefficient of determination (R2)', fontsize=18)\n",
    "\n",
    "for whisker in plot['whiskers']:\n",
    "    whisker.set(color ='blue',\n",
    "                linewidth = 1.5,\n",
    "                linestyle =\":\")\n",
    "    \n",
    "for cap in plot['caps']:\n",
    "    cap.set(color ='blue',\n",
    "            linewidth = 2)\n",
    "    \n",
    "for median in plot['medians']:\n",
    "    median.set(color ='orange',\n",
    "               linewidth = 3)\n",
    "\n",
    "\n",
    "\n",
    "\n",
    "plt.show()"
   ]
  },
  {
   "cell_type": "markdown",
   "metadata": {},
   "source": [
    "Box and Whisker Plots of the coefficient of determination (r2) of a linear regresson model for different repeat number of a 10-fold cross validation. \n",
    "The orange line indicates the median of the distribution and the green triangle represents the arithmetic mean. If these symbols (values) coincide, it suggests a reasonable symmetric distribution and that the mean may capture the central tendency well.Therefore, ***10 repeat* of the *10-fold cross validation* is a good choice.** "
   ]
  },
  {
   "cell_type": "code",
   "execution_count": null,
   "metadata": {},
   "outputs": [],
   "source": []
  },
  {
   "cell_type": "code",
   "execution_count": null,
   "metadata": {},
   "outputs": [],
   "source": []
  },
  {
   "cell_type": "code",
   "execution_count": null,
   "metadata": {},
   "outputs": [],
   "source": []
  }
 ],
 "metadata": {
  "kernelspec": {
   "display_name": "Python 3",
   "language": "python",
   "name": "python3"
  },
  "language_info": {
   "codemirror_mode": {
    "name": "ipython",
    "version": 3
   },
   "file_extension": ".py",
   "mimetype": "text/x-python",
   "name": "python",
   "nbconvert_exporter": "python",
   "pygments_lexer": "ipython3",
   "version": "3.8.5"
  }
 },
 "nbformat": 4,
 "nbformat_minor": 4
}
