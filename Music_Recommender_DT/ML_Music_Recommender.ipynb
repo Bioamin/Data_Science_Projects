{
 "cells": [
  {
   "cell_type": "code",
   "execution_count": null,
   "id": "e22a34a0",
   "metadata": {},
   "outputs": [],
   "source": [
    "##########ML-Music Genre Recommendation ###################\n",
    "# Amin Boroomand, OCT 2022\n",
    "#Amin project practicing\n",
    "#Dataset: Music.csv\n",
    "#objective: predicting music genre based on age and sex\n",
    "#ML Algorithm: Decision Tree\n",
    "#Thanks to \"Programming with Mosh\" youtube chanel!\n",
    "#################################################"
   ]
  },
  {
   "cell_type": "code",
   "execution_count": 122,
   "id": "5d933661",
   "metadata": {},
   "outputs": [],
   "source": [
    "#imports\n",
    "import pandas as pd\n",
    "from sklearn.tree import DecisionTreeClassifier as DTCmodel\n",
    "from sklearn.model_selection import train_test_split\n",
    "from sklearn.metrics import accuracy_score\n",
    "import joblib\n",
    "from sklearn import tree"
   ]
  },
  {
   "cell_type": "code",
   "execution_count": 104,
   "id": "9678f430",
   "metadata": {},
   "outputs": [],
   "source": [
    "# Reading file \n",
    "music_data = pd.read_csv(\"music.csv\")\n",
    "#cleaning : generating two DFs for supervised ML\n",
    "age_sex=music_data.drop(columns=['genre'])\n",
    "genre= music_data['genre']"
   ]
  },
  {
   "cell_type": "code",
   "execution_count": 105,
   "id": "1e6e14e3",
   "metadata": {},
   "outputs": [
    {
     "data": {
      "text/plain": [
       "DecisionTreeClassifier()"
      ]
     },
     "execution_count": 105,
     "metadata": {},
     "output_type": "execute_result"
    }
   ],
   "source": [
    "#building the model\n",
    "model = DTCmodel()\n",
    "model.fit(age_sex , genre)"
   ]
  },
  {
   "cell_type": "code",
   "execution_count": 106,
   "id": "5b97808d",
   "metadata": {},
   "outputs": [
    {
     "data": {
      "text/plain": [
       "array(['HipHop'], dtype=object)"
      ]
     },
     "execution_count": 106,
     "metadata": {},
     "output_type": "execute_result"
    }
   ],
   "source": [
    "#prediction\n",
    "prediction= model.predict([[20,1]])  #age, gender 1:male 0:female\n",
    "prediction"
   ]
  },
  {
   "cell_type": "code",
   "execution_count": 107,
   "id": "6cdffdf9",
   "metadata": {},
   "outputs": [],
   "source": [
    "#predicting genre for different ages for male and female\n",
    "for i in range(0,101,5):\n",
    "    prediction= model.predict([[i,1], [i,0]])\n",
    "    #print(i,prediction)"
   ]
  },
  {
   "cell_type": "code",
   "execution_count": 108,
   "id": "e68c5d92",
   "metadata": {},
   "outputs": [
    {
     "data": {
      "text/plain": [
       "1.0"
      ]
     },
     "execution_count": 108,
     "metadata": {},
     "output_type": "execute_result"
    }
   ],
   "source": [
    "#model validation\n",
    "age_sex_train,age_sex_test, genre_train, genre_test =train_test_split(age_sex, genre, test_size= 0.2)\n",
    "model = DTCmodel()\n",
    "model.fit( age_sex_train, genre_train)\n",
    "prediction_test = model.predict(age_sex_test)\n",
    "accuracy_score(genre_test, prediction_test)  # expected values vs prediction values"
   ]
  },
  {
   "cell_type": "code",
   "execution_count": 118,
   "id": "dc92ee50",
   "metadata": {},
   "outputs": [
    {
     "data": {
      "text/plain": [
       "['music_genre_recommender.joblib']"
      ]
     },
     "execution_count": 118,
     "metadata": {},
     "output_type": "execute_result"
    }
   ],
   "source": [
    "#downloading the trained model\n",
    "joblib.dump (model, 'music_genre_recommender.joblib') #download\n"
   ]
  },
  {
   "cell_type": "code",
   "execution_count": 121,
   "id": "03f41da7",
   "metadata": {},
   "outputs": [],
   "source": [
    "#uploading the trained model\n",
    "model = joblib.load ( 'music_genre_recommender.joblib') #upload"
   ]
  },
  {
   "cell_type": "code",
   "execution_count": 123,
   "id": "199cb67d",
   "metadata": {},
   "outputs": [],
   "source": [
    "#model visualization \n",
    "tree.export_graphviz(model, out_file= 'music_genre_recommender.dot', \n",
    "                     feature_names=[\"age\", \"gender\"], \n",
    "                     class_names= sorted(genre.unique()),\n",
    "                    label=\"all\",\n",
    "                    filled=True)"
   ]
  }
 ],
 "metadata": {
  "kernelspec": {
   "display_name": "Python 3.9.4 64-bit",
   "language": "python",
   "name": "python3"
  },
  "language_info": {
   "codemirror_mode": {
    "name": "ipython",
    "version": 3
   },
   "file_extension": ".py",
   "mimetype": "text/x-python",
   "name": "python",
   "nbconvert_exporter": "python",
   "pygments_lexer": "ipython3",
   "version": "3.9.4"
  },
  "vscode": {
   "interpreter": {
    "hash": "b0fa6594d8f4cbf19f97940f81e996739fb7646882a419484c72d19e05852a7e"
   }
  }
 },
 "nbformat": 4,
 "nbformat_minor": 5
}
